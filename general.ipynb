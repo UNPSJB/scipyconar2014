{
 "metadata": {
  "name": "",
  "signature": "sha256:7115942dfd2cbc15b68e9a785f3edee379c21ee03f71f61caf60d9c56daef5df"
 },
 "nbformat": 3,
 "nbformat_minor": 0,
 "worksheets": [
  {
   "cells": [
    {
     "cell_type": "heading",
     "level": 1,
     "metadata": {},
     "source": [
      "Que es SciPy y SciPyCon"
     ]
    },
    {
     "cell_type": "heading",
     "level": 1,
     "metadata": {},
     "source": [
      "Organizacion y Schedule"
     ]
    },
    {
     "cell_type": "heading",
     "level": 1,
     "metadata": {},
     "source": [
      "Mesa redonda - Debate: Python en la academia, industria, colegios secundarios"
     ]
    },
    {
     "cell_type": "heading",
     "level": 1,
     "metadata": {},
     "source": [
      "MeetUp PyLadies"
     ]
    },
    {
     "cell_type": "heading",
     "level": 1,
     "metadata": {},
     "source": [
      "Experiencia de los alumnos"
     ]
    }
   ],
   "metadata": {}
  }
 ]
}