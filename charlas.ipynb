{
 "metadata": {
  "name": "",
  "signature": "sha256:f9f101bdc6aefc8dbec6d56ecfe655af0375b99981c10de7e2fa8dd17756ffbc"
 },
 "nbformat": 3,
 "nbformat_minor": 0,
 "worksheets": [
  {
   "cells": [
    {
     "cell_type": "heading",
     "level": 1,
     "metadata": {},
     "source": [
      "Hacking academia for fun and profit"
     ]
    },
    {
     "cell_type": "heading",
     "level": 1,
     "metadata": {},
     "source": [
      "La revoluci\u00f3n de Jupyter"
     ]
    },
    {
     "cell_type": "heading",
     "level": 1,
     "metadata": {},
     "source": [
      "Rob\u00f3tica Educativa con Android + Python + Ping\u00fcino-PIC18F4550"
     ]
    },
    {
     "cell_type": "heading",
     "level": 1,
     "metadata": {},
     "source": [
      "Machine Learning y problemas peque\u00f1os"
     ]
    },
    {
     "cell_type": "heading",
     "level": 1,
     "metadata": {},
     "source": [
      "Espiando procesos locales con Python-Ptrace"
     ]
    },
    {
     "cell_type": "heading",
     "level": 1,
     "metadata": {},
     "source": [
      "Fotograf\u00eda y modelamiento geom\u00e9trico para impresoras 3D"
     ]
    },
    {
     "cell_type": "heading",
     "level": 1,
     "metadata": {},
     "source": [
      "FOP-ARSAT: Simulando la Red Federal de Fibra \u00d3ptica usando Python"
     ]
    },
    {
     "cell_type": "heading",
     "level": 1,
     "metadata": {},
     "source": [
      "Utilizando SVG para visualizar datos estructurados"
     ]
    },
    {
     "cell_type": "heading",
     "level": 1,
     "metadata": {},
     "source": [
      "Desarrollando mec\u00e1nica de fluidos con Python"
     ]
    },
    {
     "cell_type": "heading",
     "level": 1,
     "metadata": {},
     "source": [
      "Versionado de c\u00f3digo con git"
     ]
    },
    {
     "cell_type": "heading",
     "level": 1,
     "metadata": {},
     "source": [
      "Cameras, Apertures, and Contact Lenses"
     ]
    },
    {
     "cell_type": "heading",
     "level": 1,
     "metadata": {},
     "source": [
      "Diez consejos para un mejor software (de) cient\u00edfico(s)"
     ]
    },
    {
     "cell_type": "heading",
     "level": 1,
     "metadata": {},
     "source": [
      "Python Cient\u00edfico: migrando de Matlab a Python "
     ]
    },
    {
     "cell_type": "code",
     "collapsed": false,
     "input": [
      "Sistema de grabaci\u00f3n para detectar hablantes de Buenos Aires y C\u00f3rdoba"
     ],
     "language": "python",
     "metadata": {},
     "outputs": []
    },
    {
     "cell_type": "code",
     "collapsed": false,
     "input": [
      "Dise\u00f1o de un plan doctoral para el an\u00e1lisis de datos astrof\u00edsicos con Python"
     ],
     "language": "python",
     "metadata": {},
     "outputs": []
    },
    {
     "cell_type": "code",
     "collapsed": false,
     "input": [
      "Introduction to PyCUDA"
     ],
     "language": "python",
     "metadata": {},
     "outputs": []
    },
    {
     "cell_type": "code",
     "collapsed": false,
     "input": [],
     "language": "python",
     "metadata": {},
     "outputs": []
    }
   ],
   "metadata": {}
  }
 ]
}