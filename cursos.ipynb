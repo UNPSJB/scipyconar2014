{
 "metadata": {
  "name": "",
  "signature": "sha256:9f9befef7f0da4c21b38783ab010626c1396b3a236d2caec50ecba4b8b5e1f63"
 },
 "nbformat": 3,
 "nbformat_minor": 0,
 "worksheets": [
  {
   "cells": [
    {
     "cell_type": "heading",
     "level": 1,
     "metadata": {},
     "source": [
      "Visualizaciones con Bokeh"
     ]
    },
    {
     "cell_type": "markdown",
     "metadata": {},
     "source": [
      "Bokeh es un popular proyecto de visualizaci\u00f3n en la web que provee de m\u00faltiples herramientas para la construcci\u00f3n de no s\u00f3lo simples gr\u00e1ficos sino tambi\u00e9n complejas visualizaciones (optimizadas para la exploraci\u00f3n de datos por parte del usuario final). Este tutorial pretende introducir y explorar dichas herramientas con el objeto de construir complejas visualizaciones de una manera simple."
     ]
    },
    {
     "cell_type": "heading",
     "level": 1,
     "metadata": {},
     "source": [
      "Machine learning in Python with scikit-learn"
     ]
    },
    {
     "cell_type": "heading",
     "level": 1,
     "metadata": {},
     "source": [
      "Fundamentos de Business Intelligence"
     ]
    },
    {
     "cell_type": "heading",
     "level": 1,
     "metadata": {},
     "source": [
      "Introducci\u00f3n a Python para ciencias e ingenier\u00edas"
     ]
    }
   ],
   "metadata": {}
  }
 ]
}